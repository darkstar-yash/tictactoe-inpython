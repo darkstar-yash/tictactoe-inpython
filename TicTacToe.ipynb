{
 "cells": [
  {
   "cell_type": "code",
   "execution_count": 2,
   "metadata": {},
   "outputs": [],
   "source": [
    "# board display\n",
    "def display_board(board):\n",
    "    print(board[7]+\"|\"+board[8]+\"|\"+board[9])\n",
    "    print(board[4]+\"|\"+board[5]+\"|\"+board[6])\n",
    "    print(board[1]+\"|\"+board[2]+\"|\"+board[3])"
   ]
  },
  {
   "cell_type": "code",
   "execution_count": 3,
   "metadata": {},
   "outputs": [],
   "source": [
    "# Assigning Symbol\n",
    "def player_assign():\n",
    "    symbol = input(\"\\nChoose your symbol player one (X,O)\").upper()\n",
    "    if symbol == \"X\" or symbol == \"O\":\n",
    "        return symbol\n",
    "    else:\n",
    "        print(\"Invalid Marker!\")\n",
    "        player_assign()"
   ]
  },
  {
   "cell_type": "code",
   "execution_count": 4,
   "metadata": {},
   "outputs": [],
   "source": [
    "# Tie checker\n",
    "def space_check(board, position):\n",
    "    return board[position] == ' '\n",
    "def full_board_check(board):\n",
    "    for i in range(1,10):\n",
    "        if space_check(board, i):\n",
    "            return False\n",
    "    return True"
   ]
  },
  {
   "cell_type": "code",
   "execution_count": 5,
   "metadata": {},
   "outputs": [],
   "source": [
    "#INSTRUCTIONS\n",
    "def layout():\n",
    "    print(\"\\nSample layout:\")\n",
    "    sample_board = [\"#\"]\n",
    "    i=1\n",
    "    while i<10:\n",
    "        sample_board.append(f\"{i}\")\n",
    "        i += 1\n",
    "    display_board(sample_board)    \n",
    "    print(\"Use the given layout for your moves!\")"
   ]
  },
  {
   "cell_type": "code",
   "execution_count": 6,
   "metadata": {},
   "outputs": [],
   "source": [
    "#Placing moves\n",
    "\n",
    "playing_board = [\"#\",\" \",\" \",\" \",\" \",\" \",\" \",\" \",\" \",\" \",\" \"]\n",
    "def placing(marker,move):\n",
    "    playing_board[move] = marker\n",
    "    return playing_board"
   ]
  },
  {
   "cell_type": "code",
   "execution_count": 7,
   "metadata": {},
   "outputs": [],
   "source": [
    "#Checking if won or tie\n",
    "def check(check_board):\n",
    "    i=1\n",
    "    while i<10:\n",
    "        if check_board[i] == check_board[i+1] and check_board[i] == check_board [i+2] and check_board[i] != \" \":\n",
    "            if p1 == check_board[i]:\n",
    "                print(\"Player one has won!\")\n",
    "                return False\n",
    "            else:\n",
    "                print(\"Player two has won!\")\n",
    "                return False\n",
    "        i += 3\n",
    "    i = 1\n",
    "    while i < 4:\n",
    "        if check_board[i] == check_board[i+3] and check_board[i] == check_board[i+6] and check_board[i] != \" \":\n",
    "            if p1 == check_board[i]:\n",
    "                print(\"Player one has won!\")\n",
    "                return False\n",
    "            else:\n",
    "                print(\"Player two has won!\")\n",
    "                return False\n",
    "        i += 1\n",
    "    if check_board[1] == check_board[5] and check_board[1] == check_board[9] and check_board[1] != \" \":\n",
    "        if p1 == check_board[1]:\n",
    "            print(\"Player one has won!\")\n",
    "            return False\n",
    "        else:\n",
    "            print(\"Player two has won!\")\n",
    "            return False\n",
    "    if check_board[3] == check_board[5] and check_board[3] == check_board[7] and check_board[3] != \" \":\n",
    "        if p1 == check_board[1]:\n",
    "            print(\"Player one has won!\")\n",
    "            return False\n",
    "        else:\n",
    "            print(\"Player two has won!\")\n",
    "            return False      \n",
    "    if full_board_check(check_board):\n",
    "        print(\"It's a tie!\")\n",
    "        return False\n",
    "    return True "
   ]
  },
  {
   "cell_type": "code",
   "execution_count": null,
   "metadata": {},
   "outputs": [
    {
     "name": "stdout",
     "output_type": "stream",
     "text": [
      "Let's play!\n"
     ]
    },
    {
     "name": "stdin",
     "output_type": "stream",
     "text": [
      "\n",
      "Choose your symbol player one (X,O) X\n"
     ]
    },
    {
     "name": "stdout",
     "output_type": "stream",
     "text": [
      "\n",
      "Sample layout:\n",
      "7|8|9\n",
      "4|5|6\n",
      "1|2|3\n",
      "Use the given layout for your moves!\n"
     ]
    },
    {
     "name": "stdin",
     "output_type": "stream",
     "text": [
      "Player 1 enter your move! 3\n"
     ]
    },
    {
     "name": "stdout",
     "output_type": "stream",
     "text": [
      " | | \n",
      " | | \n",
      " | |X\n",
      "\n",
      "Sample layout:\n",
      "7|8|9\n",
      "4|5|6\n",
      "1|2|3\n",
      "Use the given layout for your moves!\n"
     ]
    },
    {
     "name": "stdin",
     "output_type": "stream",
     "text": [
      "Player 2 enter your move! 9\n"
     ]
    },
    {
     "name": "stdout",
     "output_type": "stream",
     "text": [
      " | |O\n",
      " | | \n",
      " | |X\n",
      "\n",
      "Sample layout:\n",
      "7|8|9\n",
      "4|5|6\n",
      "1|2|3\n",
      "Use the given layout for your moves!\n"
     ]
    },
    {
     "name": "stdin",
     "output_type": "stream",
     "text": [
      "Player 1 enter your move! 5\n"
     ]
    },
    {
     "name": "stdout",
     "output_type": "stream",
     "text": [
      " | |O\n",
      " |X| \n",
      " | |X\n",
      "\n",
      "Sample layout:\n",
      "7|8|9\n",
      "4|5|6\n",
      "1|2|3\n",
      "Use the given layout for your moves!\n"
     ]
    },
    {
     "name": "stdin",
     "output_type": "stream",
     "text": [
      "Player 2 enter your move! 1\n"
     ]
    },
    {
     "name": "stdout",
     "output_type": "stream",
     "text": [
      " | |O\n",
      " |X| \n",
      "O| |X\n",
      "\n",
      "Sample layout:\n",
      "7|8|9\n",
      "4|5|6\n",
      "1|2|3\n",
      "Use the given layout for your moves!\n"
     ]
    },
    {
     "name": "stdin",
     "output_type": "stream",
     "text": [
      "Player 1 enter your move! 7\n"
     ]
    },
    {
     "name": "stdout",
     "output_type": "stream",
     "text": [
      "X| |O\n",
      " |X| \n",
      "O| |X\n",
      "Player two has won!\n"
     ]
    }
   ],
   "source": [
    "# Playing\n",
    "print(\"Let's play!\")\n",
    "counter = 1\n",
    "run = True\n",
    "mark = None\n",
    "# player assignment\n",
    "p1 = player_assign()\n",
    "p2 = \"O\"\n",
    "if \"x\" == p1.lower():\n",
    "    p2 = \"O\"\n",
    "else:\n",
    "    p2 = \"X\"\n",
    "playing_board = [\"#\",\" \",\" \",\" \",\" \",\" \",\" \",\" \",\" \",\" \",\" \"]\n",
    "ans = \"y\"\n",
    "while run or ans.lower() == \"y\":\n",
    "    layout()\n",
    "    move = None\n",
    "    if not(counter%2 == 0):\n",
    "        mark = p1\n",
    "        move = int(input(\"Player 1 enter your move!\"))\n",
    "    else:\n",
    "        mark = p2\n",
    "        move = int(input(\"Player 2 enter your move!\"))\n",
    "    update_board = placing(mark,move)  \n",
    "    display_board(update_board)\n",
    "    run = check(update_board)\n",
    "    counter += 1\n",
    "    if not(run):\n",
    "        ans = input(\"Do you want to play again(y/n)?\")"
   ]
  },
  {
   "cell_type": "code",
   "execution_count": null,
   "metadata": {},
   "outputs": [],
   "source": []
  },
  {
   "cell_type": "code",
   "execution_count": null,
   "metadata": {},
   "outputs": [],
   "source": []
  }
 ],
 "metadata": {
  "kernelspec": {
   "display_name": "Python 3",
   "language": "python",
   "name": "python3"
  },
  "language_info": {
   "codemirror_mode": {
    "name": "ipython",
    "version": 3
   },
   "file_extension": ".py",
   "mimetype": "text/x-python",
   "name": "python",
   "nbconvert_exporter": "python",
   "pygments_lexer": "ipython3",
   "version": "3.7.0"
  }
 },
 "nbformat": 4,
 "nbformat_minor": 2
}
